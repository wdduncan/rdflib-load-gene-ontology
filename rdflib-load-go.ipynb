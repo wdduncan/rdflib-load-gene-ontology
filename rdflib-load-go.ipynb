{
 "cells": [
  {
   "cell_type": "markdown",
   "metadata": {},
   "source": [
    "## Load RDFLib 4.2.2"
   ]
  },
  {
   "cell_type": "code",
   "execution_count": 1,
   "metadata": {},
   "outputs": [],
   "source": [
    "from rdflib import Graph"
   ]
  },
  {
   "cell_type": "code",
   "execution_count": 2,
   "metadata": {},
   "outputs": [
    {
     "name": "stdout",
     "output_type": "stream",
     "text": [
      "Name: rdflib\n",
      "Version: 4.2.2\n",
      "Summary: RDFLib is a Python library for working with RDF, a simple yet powerful language for representing information.\n",
      "Home-page: https://github.com/RDFLib/rdflib\n",
      "Author: RDFLib Team\n",
      "Author-email: rdflib-dev@google.com\n",
      "License: https://raw.github.com/RDFLib/rdflib/master/LICENSE\n",
      "Location: /Users/wdduncan/opt/anaconda3/lib/python3.7/site-packages\n",
      "Requires: isodate, pyparsing\n",
      "Required-by: -iolinkml, SPARQLWrapper, sparql-slurper, rdflib-jsonld, PyShExC, PyShEx, CFGraph, biolinkml\n"
     ]
    }
   ],
   "source": [
    "!pip show rdflib"
   ]
  },
  {
   "cell_type": "markdown",
   "metadata": {},
   "source": [
    "## Parse RDF/XML version of GO\n",
    "#### go.owl is saved locally\n",
    "#### takes ~2 min 8 sec on my machine "
   ]
  },
  {
   "cell_type": "code",
   "execution_count": 3,
   "metadata": {},
   "outputs": [],
   "source": [
    "graph1 = Graph()"
   ]
  },
  {
   "cell_type": "code",
   "execution_count": 4,
   "metadata": {},
   "outputs": [
    {
     "name": "stdout",
     "output_type": "stream",
     "text": [
      "CPU times: user 2min 28s, sys: 1.31 s, total: 2min 29s\n",
      "Wall time: 2min 30s\n"
     ]
    },
    {
     "data": {
      "text/plain": [
       "<Graph identifier=N4c8f06bc8a3a44a897b29ba129c17831 (<class 'rdflib.graph.Graph'>)>"
      ]
     },
     "execution_count": 4,
     "metadata": {},
     "output_type": "execute_result"
    }
   ],
   "source": [
    "%time graph1.parse(\"go.owl\")"
   ]
  },
  {
   "cell_type": "markdown",
   "metadata": {},
   "source": [
    "## Parse turtle version of GO\n",
    "#### go.ttl is saved locally\n",
    "#### takes ~1 min 42 sec on my machine "
   ]
  },
  {
   "cell_type": "code",
   "execution_count": 5,
   "metadata": {},
   "outputs": [],
   "source": [
    "graph2 = Graph()"
   ]
  },
  {
   "cell_type": "code",
   "execution_count": 6,
   "metadata": {},
   "outputs": [
    {
     "name": "stdout",
     "output_type": "stream",
     "text": [
      "CPU times: user 1min 56s, sys: 596 ms, total: 1min 56s\n",
      "Wall time: 1min 56s\n"
     ]
    },
    {
     "data": {
      "text/plain": [
       "<Graph identifier=N9125062b679741989b52b5de987ab78e (<class 'rdflib.graph.Graph'>)>"
      ]
     },
     "execution_count": 6,
     "metadata": {},
     "output_type": "execute_result"
    }
   ],
   "source": [
    "%time graph2.parse(\"go.ttl\", format=\"turtle\")"
   ]
  },
  {
   "cell_type": "markdown",
   "metadata": {},
   "source": [
    "## Save version of GO as N-triples"
   ]
  },
  {
   "cell_type": "code",
   "execution_count": 7,
   "metadata": {},
   "outputs": [
    {
     "name": "stdout",
     "output_type": "stream",
     "text": [
      "CPU times: user 10.4 s, sys: 430 ms, total: 10.8 s\n",
      "Wall time: 10.8 s\n"
     ]
    }
   ],
   "source": [
    "%time graph2.serialize(\"go.nt\", format=\"nt\")"
   ]
  },
  {
   "cell_type": "markdown",
   "metadata": {},
   "source": [
    "## Parse N-triples version of GO\n",
    "#### go.nt is saved locally\n",
    "#### takes ~1 min 8 sec on my machine "
   ]
  },
  {
   "cell_type": "code",
   "execution_count": 8,
   "metadata": {},
   "outputs": [],
   "source": [
    "graph3 = Graph()"
   ]
  },
  {
   "cell_type": "code",
   "execution_count": 9,
   "metadata": {},
   "outputs": [
    {
     "name": "stdout",
     "output_type": "stream",
     "text": [
      "CPU times: user 1min 20s, sys: 1.09 s, total: 1min 21s\n",
      "Wall time: 1min 21s\n"
     ]
    },
    {
     "data": {
      "text/plain": [
       "<Graph identifier=N7a0a9dec97624834be683cd95ecf0042 (<class 'rdflib.graph.Graph'>)>"
      ]
     },
     "execution_count": 9,
     "metadata": {},
     "output_type": "execute_result"
    }
   ],
   "source": [
    "%time graph3.parse(\"go.nt\", format=\"nt\")"
   ]
  },
  {
   "cell_type": "markdown",
   "metadata": {},
   "source": [
    "## Parse RDF/XML version of GO-Plus\n",
    "#### go-plus.owl is saved locally\n",
    "#### takes ~3 min 18 sec on my machine "
   ]
  },
  {
   "cell_type": "code",
   "execution_count": 10,
   "metadata": {},
   "outputs": [],
   "source": [
    "graph4 = Graph()"
   ]
  },
  {
   "cell_type": "code",
   "execution_count": 11,
   "metadata": {},
   "outputs": [
    {
     "name": "stdout",
     "output_type": "stream",
     "text": [
      "CPU times: user 4min 4s, sys: 2.5 s, total: 4min 7s\n",
      "Wall time: 4min 7s\n"
     ]
    },
    {
     "data": {
      "text/plain": [
       "<Graph identifier=Nce91dc9dabc84739bebd0d1cd299fba0 (<class 'rdflib.graph.Graph'>)>"
      ]
     },
     "execution_count": 11,
     "metadata": {},
     "output_type": "execute_result"
    }
   ],
   "source": [
    "%time graph4.parse(\"go-plus.owl\")"
   ]
  },
  {
   "cell_type": "markdown",
   "metadata": {},
   "source": [
    "## Save version of GO-Plus as N-triples"
   ]
  },
  {
   "cell_type": "code",
   "execution_count": 12,
   "metadata": {},
   "outputs": [
    {
     "name": "stdout",
     "output_type": "stream",
     "text": [
      "CPU times: user 15.7 s, sys: 604 ms, total: 16.3 s\n",
      "Wall time: 16.4 s\n"
     ]
    }
   ],
   "source": [
    "%time graph4.serialize(\"go-plus.nt\", format=\"nt\")"
   ]
  },
  {
   "cell_type": "markdown",
   "metadata": {},
   "source": [
    "## Parse N-triples version of GO-Plus\n",
    "#### go-plus.nt is saved locally\n",
    "#### takes ~1 min 50 sec on my machine "
   ]
  },
  {
   "cell_type": "code",
   "execution_count": 13,
   "metadata": {},
   "outputs": [],
   "source": [
    "graph5 = Graph()"
   ]
  },
  {
   "cell_type": "code",
   "execution_count": 14,
   "metadata": {},
   "outputs": [
    {
     "name": "stdout",
     "output_type": "stream",
     "text": [
      "CPU times: user 1min 50s, sys: 1.57 s, total: 1min 51s\n",
      "Wall time: 1min 51s\n"
     ]
    },
    {
     "data": {
      "text/plain": [
       "<Graph identifier=Nae87276a360f4cb7a61ce8af64856f8c (<class 'rdflib.graph.Graph'>)>"
      ]
     },
     "execution_count": 14,
     "metadata": {},
     "output_type": "execute_result"
    }
   ],
   "source": [
    "%time graph5.parse(\"go-plus.nt\", format=\"nt\")"
   ]
  },
  {
   "cell_type": "markdown",
   "metadata": {},
   "source": [
    "## Split GO-Plus in into multiple files"
   ]
  },
  {
   "cell_type": "code",
   "execution_count": 15,
   "metadata": {},
   "outputs": [],
   "source": [
    "from fsplit.filesplit import FileSplit"
   ]
  },
  {
   "cell_type": "code",
   "execution_count": 16,
   "metadata": {},
   "outputs": [
    {
     "name": "stdout",
     "output_type": "stream",
     "text": [
      "Name: filesplit\n",
      "Version: 2.0.0\n",
      "Summary: Module to split file of any size into multiple chunks\n",
      "Home-page: https://github.com/ram-jayapalan/filesplit\n",
      "Author: Ram Prakash Jayapalan\n",
      "Author-email: ramp16888@gmail.com\n",
      "License: UNKNOWN\n",
      "Location: /Users/wdduncan/opt/anaconda3/lib/python3.7/site-packages\n",
      "Requires: \n",
      "Required-by: \n"
     ]
    }
   ],
   "source": [
    "!pip show filesplit"
   ]
  },
  {
   "cell_type": "code",
   "execution_count": 17,
   "metadata": {},
   "outputs": [],
   "source": [
    "fs = FileSplit(file=\"go-plus.nt\", splitsize=50000000, output_dir=\"./go-plus-files/\") # split into 50M chuncks\n",
    "fs.split()"
   ]
  },
  {
   "cell_type": "code",
   "execution_count": 18,
   "metadata": {},
   "outputs": [
    {
     "name": "stdout",
     "output_type": "stream",
     "text": [
      "total 676888\n",
      "-rw-r--r--  1 wdduncan  staff  49999978 Mar  3 17:09 go-plus_1.nt\n",
      "-rw-r--r--  1 wdduncan  staff  49999984 Mar  3 17:09 go-plus_2.nt\n",
      "-rw-r--r--  1 wdduncan  staff  49999883 Mar  3 17:09 go-plus_3.nt\n",
      "-rw-r--r--  1 wdduncan  staff  49999841 Mar  3 17:09 go-plus_4.nt\n",
      "-rw-r--r--  1 wdduncan  staff  49999990 Mar  3 17:09 go-plus_5.nt\n",
      "-rw-r--r--  1 wdduncan  staff  49999177 Mar  3 17:09 go-plus_6.nt\n",
      "-rw-r--r--  1 wdduncan  staff  46550922 Mar  3 17:09 go-plus_7.nt\n"
     ]
    }
   ],
   "source": [
    "!ls -l ./go-plus-files/"
   ]
  },
  {
   "cell_type": "markdown",
   "metadata": {},
   "source": [
    "## Parse each GO-Plus split and combine"
   ]
  },
  {
   "cell_type": "code",
   "execution_count": 19,
   "metadata": {},
   "outputs": [],
   "source": [
    "import os"
   ]
  },
  {
   "cell_type": "code",
   "execution_count": 20,
   "metadata": {},
   "outputs": [
    {
     "data": {
      "text/plain": [
       "['go-plus-files/go-plus_4.nt',\n",
       " 'go-plus-files/go-plus_1.nt',\n",
       " 'go-plus-files/go-plus_5.nt',\n",
       " 'go-plus-files/go-plus_2.nt',\n",
       " 'go-plus-files/go-plus_6.nt',\n",
       " 'go-plus-files/go-plus_7.nt',\n",
       " 'go-plus-files/go-plus_3.nt']"
      ]
     },
     "execution_count": 20,
     "metadata": {},
     "output_type": "execute_result"
    }
   ],
   "source": [
    "go_plus_files = [f\"go-plus-files/{f}\" for f in os.listdir(\"./go-plus-files/\")]\n",
    "go_plus_files"
   ]
  },
  {
   "cell_type": "code",
   "execution_count": null,
   "metadata": {},
   "outputs": [],
   "source": []
  },
  {
   "cell_type": "code",
   "execution_count": 21,
   "metadata": {},
   "outputs": [],
   "source": [
    "graph6 = Graph()"
   ]
  },
  {
   "cell_type": "code",
   "execution_count": 22,
   "metadata": {},
   "outputs": [
    {
     "name": "stdout",
     "output_type": "stream",
     "text": [
      "CPU times: user 5min 16s, sys: 2.12 s, total: 5min 18s\n",
      "Wall time: 5min 19s\n"
     ]
    }
   ],
   "source": [
    "%%time\n",
    "temp_graph = Graph()\n",
    "for go_plus_file in [f\"go-plus-files/{f}\" for f in os.listdir(\"./go-plus-files/\")]:\n",
    "    temp_graph.parse(go_plus_file, format=\"nt\")\n",
    "    graph6 += temp_graph"
   ]
  },
  {
   "cell_type": "code",
   "execution_count": 23,
   "metadata": {},
   "outputs": [
    {
     "name": "stdout",
     "output_type": "stream",
     "text": [
      "CPU times: user 5min 29s, sys: 2.43 s, total: 5min 31s\n",
      "Wall time: 5min 32s\n"
     ]
    }
   ],
   "source": [
    "%%time\n",
    "graph6_1 = Graph()\n",
    "graph6_2 = Graph()\n",
    "graph6_3 = Graph()\n",
    "graph6_4 = Graph()\n",
    "graph6_5 = Graph()\n",
    "graph6_6 = Graph()\n",
    "graph6_7 = Graph()\n",
    "\n",
    "graph6_1.parse(\"go-plus-files/go-plus_1.nt\", format=\"nt\")\n",
    "graph6_2.parse(\"go-plus-files/go-plus_2.nt\", format=\"nt\")\n",
    "graph6_3.parse(\"go-plus-files/go-plus_3.nt\", format=\"nt\")\n",
    "graph6_4.parse(\"go-plus-files/go-plus_4.nt\", format=\"nt\")\n",
    "graph6_5.parse(\"go-plus-files/go-plus_5.nt\", format=\"nt\")\n",
    "graph6_6.parse(\"go-plus-files/go-plus_6.nt\", format=\"nt\")\n",
    "graph6_7.parse(\"go-plus-files/go-plus_7.nt\", format=\"nt\")\n",
    "\n",
    "graph6 = graph6_1 + graph6_2 + graph6_3 + graph6_4 + graph6_5 + graph6_6 + graph6_7 "
   ]
  },
  {
   "cell_type": "markdown",
   "metadata": {},
   "source": [
    "## Try asyncio"
   ]
  },
  {
   "cell_type": "code",
   "execution_count": 91,
   "metadata": {},
   "outputs": [],
   "source": [
    "import asyncio, datetime"
   ]
  },
  {
   "cell_type": "code",
   "execution_count": 25,
   "metadata": {},
   "outputs": [
    {
     "name": "stdout",
     "output_type": "stream",
     "text": [
      "Name: asyncio\n",
      "Version: 3.4.3\n",
      "Summary: reference implementation of PEP 3156\n",
      "Home-page: http://www.python.org/dev/peps/pep-3156/\n",
      "Author: UNKNOWN\n",
      "Author-email: UNKNOWN\n",
      "License: UNKNOWN\n",
      "Location: /Users/wdduncan/opt/anaconda3/lib/python3.7/site-packages\n",
      "Requires: \n",
      "Required-by: \n"
     ]
    }
   ],
   "source": [
    "!pip show asyncio "
   ]
  },
  {
   "cell_type": "code",
   "execution_count": 85,
   "metadata": {},
   "outputs": [],
   "source": [
    "async def make_graph(file_path:str, format=\"nt\"):\n",
    "    g = Graph()\n",
    "    return g.parse(file_path, format=format)"
   ]
  },
  {
   "cell_type": "code",
   "execution_count": 103,
   "metadata": {},
   "outputs": [
    {
     "name": "stdout",
     "output_type": "stream",
     "text": [
      "milliseconds:  333424\n",
      "seconds:  333.424\n"
     ]
    }
   ],
   "source": [
    "start_time = datetime.datetime.now()\n",
    "\n",
    "g1, g2, g3, g4, g5, g6, g7 = await asyncio.gather(make_graph(\"go-plus-files/go-plus_1.nt\"),\n",
    "                                                  make_graph(\"go-plus-files/go-plus_2.nt\"),\n",
    "                                                  make_graph(\"go-plus-files/go-plus_3.nt\"),\n",
    "                                                  make_graph(\"go-plus-files/go-plus_4.nt\"),\n",
    "                                                  make_graph(\"go-plus-files/go-plus_5.nt\"),\n",
    "                                                  make_graph(\"go-plus-files/go-plus_6.nt\"),\n",
    "                                                  make_graph(\"go-plus-files/go-plus_7.nt\"))\n",
    "graph_union = g1 + g2 + g3 + g4 + g5 + g6 + g7\n",
    "\n",
    "end_time = datetime.datetime.now()\n",
    "delta = end_time - start_time\n",
    "milli_sec = int(delta.total_seconds() * 1000) # milliseconds\n",
    "\n",
    "print(\"milliseconds: \", milli_sec)\n",
    "print(\"seconds: \", milli_sec/1000)"
   ]
  },
  {
   "cell_type": "code",
   "execution_count": 104,
   "metadata": {},
   "outputs": [
    {
     "name": "stdout",
     "output_type": "stream",
     "text": [
      "milliseconds:  305464\n",
      "seconds:  305.464\n"
     ]
    }
   ],
   "source": [
    "start_time = datetime.datetime.now()\n",
    "\n",
    "g1 = await make_graph(\"go-plus-files/go-plus_1.nt\")\n",
    "g2 = await make_graph(\"go-plus-files/go-plus_2.nt\")\n",
    "g3 = await make_graph(\"go-plus-files/go-plus_3.nt\")\n",
    "g4 = await make_graph(\"go-plus-files/go-plus_4.nt\")\n",
    "g5 = await make_graph(\"go-plus-files/go-plus_5.nt\")\n",
    "g6 = await make_graph(\"go-plus-files/go-plus_6.nt\")\n",
    "g7 = await make_graph(\"go-plus-files/go-plus_7.nt\")\n",
    "\n",
    "graph_union = g1 + g2 + g3 + g4 + g5 + g6 + g7\n",
    "\n",
    "end_time = datetime.datetime.now()\n",
    "delta = end_time - start_time\n",
    "milli_sec = int(delta.total_seconds() * 1000) # milliseconds\n",
    "\n",
    "print(\"milliseconds: \", milli_sec)\n",
    "print(\"seconds: \", milli_sec/1000)"
   ]
  },
  {
   "cell_type": "code",
   "execution_count": 105,
   "metadata": {},
   "outputs": [
    {
     "name": "stdout",
     "output_type": "stream",
     "text": [
      "milliseconds:  141830\n",
      "seconds:  141.83\n"
     ]
    }
   ],
   "source": [
    "start_time = datetime.datetime.now()\n",
    "\n",
    "g1 = await make_graph(\"go-plus-files/go-plus_1.nt\")\n",
    "g2 = await make_graph(\"go-plus-files/go-plus_2.nt\")\n",
    "g3 = await make_graph(\"go-plus-files/go-plus_3.nt\")\n",
    "g4 = await make_graph(\"go-plus-files/go-plus_4.nt\")\n",
    "g5 = await make_graph(\"go-plus-files/go-plus_5.nt\")\n",
    "g6 = await make_graph(\"go-plus-files/go-plus_6.nt\")\n",
    "g7 = await make_graph(\"go-plus-files/go-plus_7.nt\")\n",
    "\n",
    "# graph_union = g1 + g2 + g3 + g4 + g5 + g6 + g7\n",
    "\n",
    "end_time = datetime.datetime.now()\n",
    "delta = end_time - start_time\n",
    "milli_sec = int(delta.total_seconds() * 1000) # milliseconds\n",
    "\n",
    "print(\"milliseconds: \", milli_sec)\n",
    "print(\"seconds: \", milli_sec/1000)"
   ]
  },
  {
   "cell_type": "code",
   "execution_count": null,
   "metadata": {},
   "outputs": [],
   "source": []
  },
  {
   "cell_type": "code",
   "execution_count": null,
   "metadata": {},
   "outputs": [],
   "source": []
  }
 ],
 "metadata": {
  "kernelspec": {
   "display_name": "Python 3",
   "language": "python",
   "name": "python3"
  },
  "language_info": {
   "codemirror_mode": {
    "name": "ipython",
    "version": 3
   },
   "file_extension": ".py",
   "mimetype": "text/x-python",
   "name": "python",
   "nbconvert_exporter": "python",
   "pygments_lexer": "ipython3",
   "version": "3.7.4"
  }
 },
 "nbformat": 4,
 "nbformat_minor": 4
}
